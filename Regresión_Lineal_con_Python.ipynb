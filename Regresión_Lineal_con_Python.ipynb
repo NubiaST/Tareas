{
  "nbformat": 4,
  "nbformat_minor": 0,
  "metadata": {
    "colab": {
      "name": "Regresión Lineal con Python",
      "provenance": []
    },
    "kernelspec": {
      "name": "python3",
      "display_name": "Python 3"
    }
  },
  "cells": [
    {
      "cell_type": "markdown",
      "metadata": {
        "id": "yrje822XKTX2"
      },
      "source": [
        "# *Regresión Lineal*"
      ]
    },
    {
      "cell_type": "markdown",
      "metadata": {
        "id": "ODElJ76UKg-N"
      },
      "source": [
        "## **1. Introducción**"
      ]
    },
    {
      "cell_type": "markdown",
      "metadata": {
        "id": "DIWw2AHTKpmk"
      },
      "source": [
        "En [estadística](https://https://es.wikipedia.org/wiki/Estad%C3%ADstica), la regresión lineal o ajuste lineal es un modelo matemático usado para aproximar la relación de dependencia entre una [variable dependiente](https://www.lifeder.com/variables-dependiente-independiente/) **Y**,  ***m*** [variables independientes](https://www.webyempresas.com/variable-independiente/) **$X_i$** con ***m*** $\\in \\mathbb Z^+$ y un término [aleatorio](https://es.wikipedia.org/wiki/Aleatoriedad) $\\epsilon$. Este modelo puede ser expresado como: \\\\\r\n",
        "\r\n",
        "$$\r\n",
        "\\\\\r\n",
        "Y=\\beta_0+\\beta_1X_1+...+\\beta_mX_m+\\epsilon\r\n",
        "\\\\\r\n",
        "$$\r\n",
        "\r\n",
        "Se llama [regresión lineal simple](http://eio.usc.es/eipc1/BASE/BASEMASTER/FORMULARIOS-PHP-DPTO/MATERIALES/Mat_50140116_Regr_%20simple_2011_12.pdf) cuando solo hay una variable independiente y [regresión lineal múltiple](http://eio.usc.es/eipc1/BASE/BASEMASTER/FORMULARIOS-PHP-DPTO/MATERIALES/Mat_50140128_RegresionMultiple.pdf) cuando hay más de una. Dependiendo del contexto, a la variable modelada se le conoce como variable dependiente o variable respuesta, y a las variables independientes como regresores, predictores.\r\n",
        "\r\n",
        "<img src=https://miro.medium.com/max/464/1*uqZFeQ0MlZ8nhaX2c4bAWw.png>\r\n",
        "\r\n",
        "El objetivo con Regresión Lineal Simple es minimizar la distancia vertical entre todos los datos y nuestra línea, por lo tanto, para determinar la mejor línea, debemos minimizar la distancia entre todos los puntos y la distancia de nuestra línea.  Existen muchos métodos para cumplir con este objetivo, pero todos estos métodos tienen un solo objetivo que es el de minimizar la distancia.\r\n",
        "\r\n",
        "Una forma en que el modelo de regresión encuentre la mejor línea de ajustes es utilizando el criterio de mínimos cuadrados para reducir el error.\r\n",
        "\r\n",
        "El error es una parte inevitable del proceso de predicción, no importa cuán poderoso sea el algoritmo que elijamos, siempre habrá un error irreductible. Sabemos que no podemos eliminar por completo el error, pero aún podemos intentar reducirlo al nivel más bajo. Justamente es en este momento en que se usa la técnica conocida como mínimos cuadrados.\r\n",
        "\r\n",
        "La técnica de mínimos cuadrado intenta reducir la suma de los errores al cuadrado, buscando el mejor valor posible de los coeficientes de regresión."
      ]
    },
    {
      "cell_type": "markdown",
      "metadata": {
        "id": "1qVvPUqSYYo6"
      },
      "source": [
        "## **2. Historia**"
      ]
    },
    {
      "cell_type": "markdown",
      "metadata": {
        "id": "zP5QFKaJYXf0"
      },
      "source": [
        "La primera forma de regresión lineal documentada fue el [método de los mínimos cuadrados](https://es.wikipedia.org/wiki/M%C3%ADnimos_cuadrados) que fue publicada por Legendre en 1805, [Gauss](https://es.wikipedia.org/wiki/Carl_Friedrich_Gauss) publicó un trabajo en donde desarrollaba de manera más profunda el método de los mínimos cuadrados,y en dónde se incluía una versión del [teorema de Gauss-Márkov](https://es.wikipedia.org/wiki/Teorema_de_Gauss-M%C3%A1rkov).\r\n",
        "\r\n",
        "El término regresión se utilizó por primera vez en el estudio de variables antropométricas: al comparar la estatura de padres e hijos, donde resultó que los hijos cuyos padres tenían una estatura muy superior al valor medio, tendían a igualarse a este, mientras que aquellos cuyos padres eran muy bajos tendían a reducir su diferencia respecto a la estatura media; es decir, \"regresaban\" al promedio.La constatación empírica de esta propiedad se vio reforzada más tarde con la justificación teórica de ese fenómeno.\r\n",
        "\r\n",
        "El término lineal se emplea para distinguirlo del resto de técnicas de regresión, que emplean modelos basados en cualquier clase de función matemática. Los modelos lineales son una explicación simplificada de la realidad, mucho más ágiles y con un soporte teórico mucho más extenso por parte de la matemática y la estadística."
      ]
    },
    {
      "cell_type": "markdown",
      "metadata": {
        "id": "Gw1_RyPbd0hx"
      },
      "source": [
        "## **3. Algoritmo**"
      ]
    },
    {
      "cell_type": "markdown",
      "metadata": {
        "id": "q0PRebHad0LW"
      },
      "source": [
        "El algoritmo deberá minimizar el coste de una función de error cuadrático y esos coeficientes corresponderán con la recta óptima. Hay diversos métodos para conseguir minimizar el coste.\r\n",
        "Para el desarrollo del algoritmo, se tomara como guia un [ejemplo](https://www.cienciadedatos.net/documentos/py10-regresion-lineal-python.html), en el cual se explicara paso por paso el desarrollo del algoritmo utilizado."
      ]
    },
    {
      "cell_type": "markdown",
      "metadata": {
        "id": "uuRpDuvKdy_Z"
      },
      "source": [
        "##**3.1 Ejemplo de aplicacion de Regresión Lineal**"
      ]
    },
    {
      "cell_type": "markdown",
      "metadata": {
        "id": "66hcusDcdsHM"
      },
      "source": [
        "##**3.1.1 Librerias**"
      ]
    },
    {
      "cell_type": "markdown",
      "metadata": {
        "id": "H0KTkuB7qNJH"
      },
      "source": [
        "Se inicia por importar las Librerias que se van a utilizar:"
      ]
    },
    {
      "cell_type": "code",
      "metadata": {
        "colab": {
          "base_uri": "https://localhost:8080/"
        },
        "id": "mr8jtf_fqgvd",
        "outputId": "b63b6de5-e0ed-432a-efde-e2c4ff21a261"
      },
      "source": [
        "# Tratamiento de datos\r\n",
        "# ==============================================================================\r\n",
        "import pandas as pd\r\n",
        "import numpy as np\r\n",
        "# Gráficos\r\n",
        "# ==============================================================================\r\n",
        "import matplotlib.pyplot as plt\r\n",
        "from matplotlib import style\r\n",
        "import seaborn as sns\r\n",
        "# Preprocesado y modelado\r\n",
        "# ==============================================================================\r\n",
        "from scipy.stats import pearsonr\r\n",
        "from sklearn.linear_model import LinearRegression\r\n",
        "from sklearn.model_selection import train_test_split\r\n",
        "from sklearn.metrics import r2_score\r\n",
        "from sklearn.metrics import mean_squared_error\r\n",
        "import statsmodels.api as sm\r\n",
        "import statsmodels.formula.api as smf\r\n",
        "# Configuración matplotlib\r\n",
        "# ==============================================================================\r\n",
        "plt.rcParams['image.cmap'] = \"bwr\"\r\n",
        "#plt.rcParams['figure.dpi'] = \"100\"\r\n",
        "plt.rcParams['savefig.bbox'] = \"tight\"\r\n",
        "style.use('ggplot') or plt.style.use('ggplot')\r\n",
        "# Configuración warnings\r\n",
        "# ==============================================================================\r\n",
        "import warnings\r\n",
        "warnings.filterwarnings('ignore')"
      ],
      "execution_count": 1,
      "outputs": [
        {
          "output_type": "stream",
          "text": [
            "/usr/local/lib/python3.7/dist-packages/statsmodels/tools/_testing.py:19: FutureWarning: pandas.util.testing is deprecated. Use the functions in the public API at pandas.testing instead.\n",
            "  import pandas.util.testing as tm\n"
          ],
          "name": "stderr"
        }
      ]
    },
    {
      "cell_type": "markdown",
      "metadata": {
        "id": "iGoZQVmP5n9m"
      },
      "source": [
        "##**3.1.2 Cargar los datos**"
      ]
    },
    {
      "cell_type": "markdown",
      "metadata": {
        "id": "wXuXsimW518x"
      },
      "source": [
        "Leemos los datos y lo cargamos como un dataset de Pandas"
      ]
    },
    {
      "cell_type": "code",
      "metadata": {
        "colab": {
          "base_uri": "https://localhost:8080/",
          "height": 111
        },
        "id": "GkatBbsN6AWz",
        "outputId": "e1e618b6-84ea-4e2a-f925-aa01f6484eeb"
      },
      "source": [
        "Edad = [15.5, 23.75, 8, 17, 5.5, 19, 24, 2.5, 7.5, 11, 13, 3.75, 25, 9.75, 22, 18, 6,\r\n",
        "          12.5, 2, 21.5]\r\n",
        "\r\n",
        "Resistencia = [2158.7, 1678.15, 2316, 2061.3, 2207.5, 1708.3, 1784.7, 2575, 2357.9, 2256.7, \r\n",
        "        2165.2, 2399.55, 1779.8, 2336.75, 1765.3, 2053.5, 2414.4, 2200.5, 2654.2, 1753.7\r\n",
        "        ]\r\n",
        "\r\n",
        "datos = pd.DataFrame({'Edad': Edad, 'Resistencia': Resistencia})\r\n",
        "datos.head(2)"
      ],
      "execution_count": 2,
      "outputs": [
        {
          "output_type": "execute_result",
          "data": {
            "text/html": [
              "<div>\n",
              "<style scoped>\n",
              "    .dataframe tbody tr th:only-of-type {\n",
              "        vertical-align: middle;\n",
              "    }\n",
              "\n",
              "    .dataframe tbody tr th {\n",
              "        vertical-align: top;\n",
              "    }\n",
              "\n",
              "    .dataframe thead th {\n",
              "        text-align: right;\n",
              "    }\n",
              "</style>\n",
              "<table border=\"1\" class=\"dataframe\">\n",
              "  <thead>\n",
              "    <tr style=\"text-align: right;\">\n",
              "      <th></th>\n",
              "      <th>Edad</th>\n",
              "      <th>Resistencia</th>\n",
              "    </tr>\n",
              "  </thead>\n",
              "  <tbody>\n",
              "    <tr>\n",
              "      <th>0</th>\n",
              "      <td>15.50</td>\n",
              "      <td>2158.70</td>\n",
              "    </tr>\n",
              "    <tr>\n",
              "      <th>1</th>\n",
              "      <td>23.75</td>\n",
              "      <td>1678.15</td>\n",
              "    </tr>\n",
              "  </tbody>\n",
              "</table>\n",
              "</div>"
            ],
            "text/plain": [
              "    Edad  Resistencia\n",
              "0  15.50      2158.70\n",
              "1  23.75      1678.15"
            ]
          },
          "metadata": {
            "tags": []
          },
          "execution_count": 2
        }
      ]
    },
    {
      "cell_type": "markdown",
      "metadata": {
        "id": "-rnDMFJSdrt-"
      },
      "source": [
        "##**3.1.3 Representación de los datos**"
      ]
    },
    {
      "cell_type": "markdown",
      "metadata": {
        "id": "veFqRyWCq-dh"
      },
      "source": [
        "Primero vamos a generar la nube de puntos para observar el comportamiento de los datos, y asi podemos intuir si existe una relación y cuantificar dicha relación mediante un coeficiente de correlación."
      ]
    },
    {
      "cell_type": "code",
      "metadata": {
        "colab": {
          "base_uri": "https://localhost:8080/",
          "height": 463
        },
        "id": "ji4kKunOrBCG",
        "outputId": "567d8948-7ab5-4d66-dd83-ccc65bf84d95"
      },
      "source": [
        "fig, ax = plt.subplots(figsize=(7, 7))\r\n",
        "\r\n",
        "datos.plot(\r\n",
        "    x    = 'Edad',\r\n",
        "    y    = 'Resistencia',\r\n",
        "    c    = 'firebrick',\r\n",
        "    kind = \"scatter\",\r\n",
        "    ax   = ax\r\n",
        ")\r\n",
        "ax.set_title('Distribución Edad y Resistencia');"
      ],
      "execution_count": 17,
      "outputs": [
        {
          "output_type": "display_data",
          "data": {
            "image/png": "[encoded data removed]",
            "text/plain": [
              "<Figure size 504x504 with 1 Axes>"
            ]
          },
          "metadata": {
            "tags": [],
            "needs_background": "light"
          }
        }
      ]
    },
    {
      "cell_type": "code",
      "metadata": {
        "colab": {
          "base_uri": "https://localhost:8080/"
        },
        "id": "5MjmV99KBPh6",
        "outputId": "eed8d9ee-fd76-419a-ff2d-796eeb106b7f"
      },
      "source": [
        "# Correlación lineal entre las dos variables\r\n",
        "# ==============================================================================\r\n",
        "corr_test = pearsonr(x = datos['Edad'], y =  datos['Resistencia'])\r\n",
        "print(\"Coeficiente de correlación de Pearson: \", corr_test[0])\r\n",
        "print(\"P-value: \", corr_test[1])"
      ],
      "execution_count": 18,
      "outputs": [
        {
          "output_type": "stream",
          "text": [
            "Coeficiente de correlación de Pearson:  -0.9496533218371342\n",
            "P-value:  1.6433438181188956e-10\n"
          ],
          "name": "stdout"
        }
      ]
    },
    {
      "cell_type": "markdown",
      "metadata": {
        "id": "dOXeBjSJC2xn"
      },
      "source": [
        "El gráfico y el test de correlación muestran una relación lineal negativa, de intensidad considerable (r = 0.94) y significativa (p-value = 0.0). Tiene sentido intentar generar un modelo de regresión lineal con el objetivo de predecir la resiistencia en funcion de la edad del propelente."
      ]
    },
    {
      "cell_type": "markdown",
      "metadata": {
        "id": "zjoJ7FX7drj8"
      },
      "source": [
        "##**3.1.4.1 Ajuste del modelo** **texto en negrita**"
      ]
    },
    {
      "cell_type": "markdown",
      "metadata": {
        "id": "lwVDmo3tdqAl"
      },
      "source": [
        "Se ajusta un modelo empleando como variable respuesta **Resistencia** y como predictor **Edad**. Como en todo estudio predictivo, no solo es importante ajustar el modelo, sino también cuantificar su capacidad para predecir nuevas observaciones. Para poder hacer esta evaluación, se dividen los datos en dos grupos, uno de entrenamiento y otro de test."
      ]
    },
    {
      "cell_type": "code",
      "metadata": {
        "colab": {
          "base_uri": "https://localhost:8080/"
        },
        "id": "ChGLE12xOSIA",
        "outputId": "0afd1b7e-1c52-45f1-a207-85ddf15b4972"
      },
      "source": [
        "# División de los datos en train y test\r\n",
        "# ==============================================================================\r\n",
        "X = datos[['Edad']]\r\n",
        "y = datos['Resistencia']\r\n",
        "\r\n",
        "X_train, X_test, y_train, y_test = train_test_split(\r\n",
        "                                        X.values.reshape(-1,1),\r\n",
        "                                        y.values.reshape(-1,1),\r\n",
        "                                        train_size   = 0.8,\r\n",
        "                                        random_state = 1234,\r\n",
        "                                        shuffle      = True\r\n",
        "                                    )\r\n",
        "\r\n",
        "# Creación del modelo\r\n",
        "# ==============================================================================\r\n",
        "modelo = LinearRegression()\r\n",
        "modelo.fit(X = X_train.reshape(-1, 1), y = y_train)"
      ],
      "execution_count": 19,
      "outputs": [
        {
          "output_type": "execute_result",
          "data": {
            "text/plain": [
              "LinearRegression(copy_X=True, fit_intercept=True, n_jobs=None, normalize=False)"
            ]
          },
          "metadata": {
            "tags": []
          },
          "execution_count": 19
        }
      ]
    },
    {
      "cell_type": "code",
      "metadata": {
        "colab": {
          "base_uri": "https://localhost:8080/"
        },
        "id": "gTcw-WSBOp7G",
        "outputId": "6993f331-8e10-4915-ec32-126c8e74d5f1"
      },
      "source": [
        "# Información del modelo\r\n",
        "# ==============================================================================\r\n",
        "print(\"Intercept:\", modelo.intercept_)\r\n",
        "print(\"Coeficiente:\", list(zip(X.columns, modelo.coef_.flatten(), )))\r\n",
        "print(\"Coeficiente de determinación R^2:\", modelo.score(X, y))"
      ],
      "execution_count": 20,
      "outputs": [
        {
          "output_type": "stream",
          "text": [
            "Intercept: [2617.95868667]\n",
            "Coeficiente: [('Edad', -37.03593371634774)]\n",
            "Coeficiente de determinación R^2: 0.9010205900255304\n"
          ],
          "name": "stdout"
        }
      ]
    },
    {
      "cell_type": "markdown",
      "metadata": {
        "id": "cyF8qDNLOzGk"
      },
      "source": [
        "Una vez entrenado el modelo, se evalúa la capacidad predictiva empleando el conjunto de test."
      ]
    },
    {
      "cell_type": "code",
      "metadata": {
        "colab": {
          "base_uri": "https://localhost:8080/"
        },
        "id": "laMP2-LXO0nt",
        "outputId": "87054940-a98e-426b-b920-3cfb139456b1"
      },
      "source": [
        "# Error de test del modelo \r\n",
        "# ==============================================================================\r\n",
        "predicciones = modelo.predict(X = X_test)\r\n",
        "print(predicciones[0:3,])\r\n",
        "\r\n",
        "rmse = mean_squared_error(\r\n",
        "        y_true  = y_test,\r\n",
        "        y_pred  = predicciones,\r\n",
        "        squared = False\r\n",
        "       )\r\n",
        "print(\"\")\r\n",
        "print(f\"El error (rmse) de test es: {rmse}\")"
      ],
      "execution_count": 21,
      "outputs": [
        {
          "output_type": "stream",
          "text": [
            "[[1988.34781349]\n",
            " [2256.85833294]\n",
            " [2321.67121694]]\n",
            "\n",
            "El error (rmse) de test es: 54.965769312042575\n"
          ],
          "name": "stdout"
        }
      ]
    },
    {
      "cell_type": "markdown",
      "metadata": {
        "id": "bLZsjKrbPJEm"
      },
      "source": [
        "##**3.1.4.2 Ahora con otra libreria**\r\n",
        "##***Statsmodels***"
      ]
    },
    {
      "cell_type": "code",
      "metadata": {
        "id": "GMSGXwGHPo7V"
      },
      "source": [
        "# División de los datos en train y test\r\n",
        "# ==============================================================================\r\n",
        "X = datos[['Edad']]\r\n",
        "y = datos['Resistencia']\r\n",
        "\r\n",
        "X_train, X_test, y_train, y_test = train_test_split(\r\n",
        "                                        X.values.reshape(-1,1),\r\n",
        "                                        y.values.reshape(-1,1),\r\n",
        "                                        train_size   = 0.8,\r\n",
        "                                        random_state = 1234,\r\n",
        "                                        shuffle      = True\r\n",
        "                                    )"
      ],
      "execution_count": 24,
      "outputs": []
    },
    {
      "cell_type": "code",
      "metadata": {
        "colab": {
          "base_uri": "https://localhost:8080/"
        },
        "id": "Xcr-eemXPyWZ",
        "outputId": "31541d85-de85-4d8b-aceb-80fe26226bb7"
      },
      "source": [
        "# Creación del modelo utilizando matrices como en scikitlearn\r\n",
        "# ==============================================================================\r\n",
        "# A la matriz de predictores se le tiene que añadir una columna de 1s para el intercept del modelo\r\n",
        "X_train = sm.add_constant(X_train, prepend=True)\r\n",
        "modelo = sm.OLS(endog=y_train, exog=X_train,)\r\n",
        "modelo = modelo.fit()\r\n",
        "print(modelo.summary())"
      ],
      "execution_count": 25,
      "outputs": [
        {
          "output_type": "stream",
          "text": [
            "                            OLS Regression Results                            \n",
            "==============================================================================\n",
            "Dep. Variable:                      y   R-squared:                       0.897\n",
            "Model:                            OLS   Adj. R-squared:                  0.890\n",
            "Method:                 Least Squares   F-statistic:                     121.9\n",
            "Date:                Sun, 14 Mar 2021   Prob (F-statistic):           2.71e-08\n",
            "Time:                        01:00:20   Log-Likelihood:                -96.161\n",
            "No. Observations:                  16   AIC:                             196.3\n",
            "Df Residuals:                      14   BIC:                             197.9\n",
            "Df Model:                           1                                         \n",
            "Covariance Type:            nonrobust                                         \n",
            "==============================================================================\n",
            "                 coef    std err          t      P>|t|      [0.025      0.975]\n",
            "------------------------------------------------------------------------------\n",
            "const       2617.9587     54.314     48.201      0.000    2501.467    2734.450\n",
            "x1           -37.0359      3.355    -11.039      0.000     -44.231     -29.840\n",
            "==============================================================================\n",
            "Omnibus:                        3.187   Durbin-Watson:                   1.421\n",
            "Prob(Omnibus):                  0.203   Jarque-Bera (JB):                2.112\n",
            "Skew:                          -0.884   Prob(JB):                        0.348\n",
            "Kurtosis:                       2.790   Cond. No.                         33.5\n",
            "==============================================================================\n",
            "\n",
            "Warnings:\n",
            "[1] Standard Errors assume that the covariance matrix of the errors is correctly specified.\n"
          ],
          "name": "stdout"
        }
      ]
    },
    {
      "cell_type": "markdown",
      "metadata": {
        "id": "r-AoNrOUQcYV"
      },
      "source": [
        "##**3.1.5 Intervalos de confianza**"
      ]
    },
    {
      "cell_type": "code",
      "metadata": {
        "colab": {
          "base_uri": "https://localhost:8080/"
        },
        "id": "tXL0L09pQmHf",
        "outputId": "b0989db9-db14-4108-8bef-515d67f8de35"
      },
      "source": [
        "# Intervalos de confianza para los coeficientes del modelo\r\n",
        "# ==============================================================================\r\n",
        "modelo.conf_int(alpha=0.05)"
      ],
      "execution_count": 26,
      "outputs": [
        {
          "output_type": "execute_result",
          "data": {
            "text/plain": [
              "array([[2501.46724718, 2734.45012616],\n",
              "       [ -44.23140438,  -29.84046305]])"
            ]
          },
          "metadata": {
            "tags": []
          },
          "execution_count": 26
        }
      ]
    },
    {
      "cell_type": "markdown",
      "metadata": {
        "id": "h7kQI5hvQux7"
      },
      "source": [
        "##**3.1.6 Predicciones**"
      ]
    },
    {
      "cell_type": "code",
      "metadata": {
        "colab": {
          "base_uri": "https://localhost:8080/",
          "height": 173
        },
        "id": "h5yzzYUnRPrd",
        "outputId": "b86807b5-7f3b-4687-dcd7-563a2885b8c9"
      },
      "source": [
        "# Predicciones con intervalo de confianza del 95%\r\n",
        "# ==============================================================================\r\n",
        "predicciones = modelo.get_prediction(exog = X_train).summary_frame(alpha=0.05)\r\n",
        "predicciones.head(4)"
      ],
      "execution_count": 27,
      "outputs": [
        {
          "output_type": "execute_result",
          "data": {
            "text/html": [
              "<div>\n",
              "<style scoped>\n",
              "    .dataframe tbody tr th:only-of-type {\n",
              "        vertical-align: middle;\n",
              "    }\n",
              "\n",
              "    .dataframe tbody tr th {\n",
              "        vertical-align: top;\n",
              "    }\n",
              "\n",
              "    .dataframe thead th {\n",
              "        text-align: right;\n",
              "    }\n",
              "</style>\n",
              "<table border=\"1\" class=\"dataframe\">\n",
              "  <thead>\n",
              "    <tr style=\"text-align: right;\">\n",
              "      <th></th>\n",
              "      <th>mean</th>\n",
              "      <th>mean_se</th>\n",
              "      <th>mean_ci_lower</th>\n",
              "      <th>mean_ci_upper</th>\n",
              "      <th>obs_ci_lower</th>\n",
              "      <th>obs_ci_upper</th>\n",
              "    </tr>\n",
              "  </thead>\n",
              "  <tbody>\n",
              "    <tr>\n",
              "      <th>0</th>\n",
              "      <td>1803.168145</td>\n",
              "      <td>37.241509</td>\n",
              "      <td>1723.293052</td>\n",
              "      <td>1883.043237</td>\n",
              "      <td>1563.389308</td>\n",
              "      <td>2042.946982</td>\n",
              "    </tr>\n",
              "    <tr>\n",
              "      <th>1</th>\n",
              "      <td>1914.275946</td>\n",
              "      <td>30.960166</td>\n",
              "      <td>1847.872993</td>\n",
              "      <td>1980.678899</td>\n",
              "      <td>1678.642306</td>\n",
              "      <td>2149.909587</td>\n",
              "    </tr>\n",
              "    <tr>\n",
              "      <th>2</th>\n",
              "      <td>2414.261051</td>\n",
              "      <td>39.215035</td>\n",
              "      <td>2330.153166</td>\n",
              "      <td>2498.368936</td>\n",
              "      <td>2173.039169</td>\n",
              "      <td>2655.482934</td>\n",
              "    </tr>\n",
              "    <tr>\n",
              "      <th>3</th>\n",
              "      <td>2043.901714</td>\n",
              "      <td>26.735523</td>\n",
              "      <td>1986.559721</td>\n",
              "      <td>2101.243707</td>\n",
              "      <td>1810.659427</td>\n",
              "      <td>2277.144001</td>\n",
              "    </tr>\n",
              "  </tbody>\n",
              "</table>\n",
              "</div>"
            ],
            "text/plain": [
              "          mean    mean_se  ...  obs_ci_lower  obs_ci_upper\n",
              "0  1803.168145  37.241509  ...   1563.389308   2042.946982\n",
              "1  1914.275946  30.960166  ...   1678.642306   2149.909587\n",
              "2  2414.261051  39.215035  ...   2173.039169   2655.482934\n",
              "3  2043.901714  26.735523  ...   1810.659427   2277.144001\n",
              "\n",
              "[4 rows x 6 columns]"
            ]
          },
          "metadata": {
            "tags": []
          },
          "execution_count": 27
        }
      ]
    },
    {
      "cell_type": "markdown",
      "metadata": {
        "id": "r9PRc4itRWYj"
      },
      "source": [
        "##**3.1.7 Gráfico del modelo**"
      ]
    },
    {
      "cell_type": "code",
      "metadata": {
        "colab": {
          "base_uri": "https://localhost:8080/",
          "height": 257
        },
        "id": "XlPx4DgiRVd5",
        "outputId": "e7f4b93b-2128-40ec-a19a-c9af87969b59"
      },
      "source": [
        "# Predicciones con intervalo de confianza del 95%\r\n",
        "# ==============================================================================\r\n",
        "predicciones = modelo.get_prediction(exog = X_train).summary_frame(alpha=0.05)\r\n",
        "predicciones['x'] = X_train[:, 1]\r\n",
        "predicciones['y'] = y_train\r\n",
        "predicciones = predicciones.sort_values('x')\r\n",
        "\r\n",
        "# Gráfico del modelo\r\n",
        "# ==============================================================================\r\n",
        "fig, ax = plt.subplots(figsize=(6, 3.84))\r\n",
        "\r\n",
        "ax.scatter(predicciones['x'], predicciones['y'], marker='o', color = \"gray\")\r\n",
        "ax.plot(predicciones['x'], predicciones[\"mean\"], linestyle='-', label=\"OLS\")\r\n",
        "ax.plot(predicciones['x'], predicciones[\"mean_ci_lower\"], linestyle='--', color='red', label=\"95% CI\")\r\n",
        "ax.plot(predicciones['x'], predicciones[\"mean_ci_upper\"], linestyle='--', color='red')\r\n",
        "ax.fill_between(predicciones['x'], predicciones[\"mean_ci_lower\"], predicciones[\"mean_ci_upper\"], alpha=0.1)\r\n",
        "ax.legend();"
      ],
      "execution_count": 28,
      "outputs": [
        {
          "output_type": "display_data",
          "data": {
            "image/png": "[encoded data removed]",
            "text/plain": [
              "<Figure size 432x276.48 with 1 Axes>"
            ]
          },
          "metadata": {
            "tags": [],
            "needs_background": "light"
          }
        }
      ]
    },
    {
      "cell_type": "code",
      "metadata": {
        "colab": {
          "base_uri": "https://localhost:8080/"
        },
        "id": "Ilc-WJ_NSJfh",
        "outputId": "86669a34-7bd3-487b-e5a9-ebe45e794de8"
      },
      "source": [
        "# Error de test del modelo \r\n",
        "# ==============================================================================\r\n",
        "X_test = sm.add_constant(X_test, prepend=True)\r\n",
        "predicciones = modelo.predict(exog = X_test)\r\n",
        "rmse = mean_squared_error(\r\n",
        "        y_true  = y_test,\r\n",
        "        y_pred  = predicciones,\r\n",
        "        squared = False\r\n",
        "       )\r\n",
        "print(\"\")\r\n",
        "print(f\"El error (rmse) de test es: {rmse}\")"
      ],
      "execution_count": 29,
      "outputs": [
        {
          "output_type": "stream",
          "text": [
            "\n",
            "El error (rmse) de test es: 54.96576931204147\n"
          ],
          "name": "stdout"
        }
      ]
    },
    {
      "cell_type": "markdown",
      "metadata": {
        "id": "veAj9OT5SU-U"
      },
      "source": [
        "##**3.1.8 Interpreción**"
      ]
    },
    {
      "cell_type": "markdown",
      "metadata": {
        "id": "8xUCZhwkSmQs"
      },
      "source": [
        "La columna $(coef)$ devuelve el valor estimado para los dos parámetros de la ecuación del modelo lineal $( \\beta_0$  y  $\\beta_1 )$ que equivalen a la ordenada en el origen (*intercepto*) y a la pendiente. Se muestran también los errores estándar, el valor del estadístico t y el p-value (dos colas) de cada uno de los dos parámetros. Esto permite determinar si los predictores son significativamente distintos de $0$, es decir, que tienen importancia en el modelo. Para el modelo generado, tanto la ordenada en el origen como la pendiente son significativas $$(p-values < 0.05)$$\r\n",
        "\r\n",
        "El valor de *R-squared* indica que el modelo es capaz de explicar el $90\\%$ de la variabilidad de la resistencia queda explicada por el modelo (*Edad*). \r\n",
        "\r\n",
        "El modelo lineal generado sigue la ecuación:\r\n",
        "$$\r\n",
        "Resistencia=2627.82-37.15X\\,\\,Edad\r\n",
        "$$\r\n",
        "\r\n",
        "Se puede interpretar que la pendiente de -37.15  es la disminución semanal promedio dde resistencia del propelente al corte, debido a su edad. \r\n",
        "\r\n",
        "El error de test del modelo es de $54.9$. Las predicciones del modelo final se alejan en promedio $54.9$ unidades del valor real."
      ]
    }
  ]
}